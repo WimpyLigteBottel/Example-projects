{
 "cells": [
  {
   "cell_type": "code",
   "metadata": {
    "collapsed": true,
    "ExecuteTime": {
     "end_time": "2025-07-28T19:38:29.967863200Z",
     "start_time": "2025-07-28T19:38:29.900264900Z"
    }
   },
   "source": [
    "var arrayOfId= arrayOf(1,2,3,4,5,6,7,8,9).joinToString(\",\")\n",
    "\n",
    "var query =\n",
    "    \"\"\"\n",
    "            select *\n",
    "            from table\n",
    "            where id in ($arrayOfId)\n",
    "        \"\"\".trimIndent()\n",
    "\n",
    "println(query)\n",
    "\n",
    "// What will be printed?\n",
    "// What is the gothca if you were to do something in same scenario?\n",
    "\n"
   ],
   "outputs": [
    {
     "name": "stdout",
     "output_type": "stream",
     "text": [
      "select *\n",
      "from table\n",
      "where id in (1,2,3,4,5,6,7,8,9)\r\n"
     ]
    }
   ],
   "execution_count": 3
  }
 ],
 "metadata": {
  "kernelspec": {
   "display_name": "Kotlin",
   "language": "kotlin",
   "name": "kotlin"
  },
  "language_info": {
   "name": "kotlin",
   "version": "1.9.23",
   "mimetype": "text/x-kotlin",
   "file_extension": ".kt",
   "pygments_lexer": "kotlin",
   "codemirror_mode": "text/x-kotlin",
   "nbconvert_exporter": ""
  }
 },
 "nbformat": 4,
 "nbformat_minor": 0
}
