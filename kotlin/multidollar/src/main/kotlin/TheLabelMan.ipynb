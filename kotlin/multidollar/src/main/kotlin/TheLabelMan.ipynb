{
 "cells": [
  {
   "metadata": {
    "ExecuteTime": {
     "end_time": "2025-07-28T20:51:04.520068100Z",
     "start_time": "2025-07-28T20:51:04.483107600Z"
    }
   },
   "cell_type": "code",
   "source": [
    "for(x in 0 .. 10){\n",
    "    print(x)\n",
    "    print(\", \")\n",
    "}"
   ],
   "outputs": [
    {
     "name": "stdout",
     "output_type": "stream",
     "text": [
      "0, 1, 2, 3, 4, 5, 6, 7, 8, 9, 10, "
     ]
    }
   ],
   "execution_count": 40
  },
  {
   "metadata": {
    "ExecuteTime": {
     "end_time": "2025-07-28T20:51:06.427078900Z",
     "start_time": "2025-07-28T20:51:06.382964300Z"
    }
   },
   "cell_type": "code",
   "source": [
    "val gotcha = \"_____\".let {\n",
    "    val numbers = (0..5).map { value -> value }\n",
    "\n",
    "    numbers\n",
    "}\n",
    "\n",
    "println(gotcha)"
   ],
   "outputs": [
    {
     "name": "stdout",
     "output_type": "stream",
     "text": [
      "[0, 1, 2, 3, 4, 5]\r\n"
     ]
    }
   ],
   "execution_count": 41
  },
  {
   "metadata": {
    "ExecuteTime": {
     "end_time": "2025-07-28T20:51:09.416750400Z",
     "start_time": "2025-07-28T20:51:09.369145Z"
    }
   },
   "cell_type": "code",
   "source": [
    "val gotcha = \"_____\".let {\n",
    "    val numbers = (0..5).map { x ->\n",
    "        if (x == 3)\n",
    "            return@let x\n",
    "        x\n",
    "    }\n",
    "    numbers\n",
    "}\n",
    "\n",
    "println(gotcha) // What gets printed?\n"
   ],
   "outputs": [
    {
     "name": "stdout",
     "output_type": "stream",
     "text": [
      "3\r\n"
     ]
    }
   ],
   "execution_count": 42
  },
  {
   "metadata": {
    "ExecuteTime": {
     "end_time": "2025-07-28T20:51:10.528396700Z",
     "start_time": "2025-07-28T20:51:10.495058500Z"
    }
   },
   "cell_type": "code",
   "source": [
    "// Notice label\n",
    "loop@ for (z in 0..1000000) {\n",
    "\n",
    "    for (x in 0..10) {\n",
    "        if (x == 5) {\n",
    "            // notice this break\n",
    "            break@loop\n",
    "        }\n",
    "        print(x)\n",
    "    }\n",
    "}"
   ],
   "outputs": [
    {
     "name": "stdout",
     "output_type": "stream",
     "text": [
      "01234"
     ]
    }
   ],
   "execution_count": 43
  }
 ],
 "metadata": {
  "kernelspec": {
   "display_name": "Kotlin",
   "language": "kotlin",
   "name": "kotlin"
  },
  "language_info": {
   "name": "kotlin",
   "version": "1.9.23",
   "mimetype": "text/x-kotlin",
   "file_extension": ".kt",
   "pygments_lexer": "kotlin",
   "codemirror_mode": "text/x-kotlin",
   "nbconvert_exporter": ""
  }
 },
 "nbformat": 4,
 "nbformat_minor": 0
}
